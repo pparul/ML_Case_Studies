{
 "cells": [
  {
   "cell_type": "code",
   "execution_count": 1,
   "metadata": {},
   "outputs": [],
   "source": [
    "import pandas as pd\n",
    "import matplotlib.pyplot as plt\n",
    "import seaborn as sns\n",
    "import numpy as np\n",
    "import statsmodels.api as sm\n",
    "from statsmodels.graphics.gofplots import ProbPlot\n",
    "from statsmodels.stats.diagnostic import linear_harvey_collier\n",
    "from statsmodels.graphics.tsaplots import plot_acf\n",
    "from statsmodels.graphics.tsaplots import plot_pacf\n",
    "from statsmodels.stats.diagnostic import het_breuschpagan\n",
    "from statsmodels.tsa.stattools import pacf\n",
    "from sklearn.preprocessing import MinMaxScaler\n",
    "import statsmodels\n",
    "from sklearn import datasets\n",
    "\n",
    "\n",
    "from sklearn.ensemble import RandomForestRegressor \n",
    "from sklearn.model_selection import KFold\n",
    "from sklearn.model_selection import cross_validate\n",
    "from sklearn.model_selection import GridSearchCV\n",
    "\n",
    "plt.style.use('ggplot')\n",
    "\n",
    "pd.options.display.max_columns = None  # display all columns when I print a dataframe\n",
    "pd.options.display.max_seq_items = 5000 # display larger numbers of rows in pandas when I print out a Series or Index\n",
    "pd.options.display.max_rows = 5000"
   ]
  },
  {
   "cell_type": "code",
   "execution_count": 2,
   "metadata": {},
   "outputs": [
    {
     "data": {
      "text/html": [
       "<div>\n",
       "<style scoped>\n",
       "    .dataframe tbody tr th:only-of-type {\n",
       "        vertical-align: middle;\n",
       "    }\n",
       "\n",
       "    .dataframe tbody tr th {\n",
       "        vertical-align: top;\n",
       "    }\n",
       "\n",
       "    .dataframe thead th {\n",
       "        text-align: right;\n",
       "    }\n",
       "</style>\n",
       "<table border=\"1\" class=\"dataframe\">\n",
       "  <thead>\n",
       "    <tr style=\"text-align: right;\">\n",
       "      <th></th>\n",
       "      <th>CRIM</th>\n",
       "      <th>ZN</th>\n",
       "      <th>INDUS</th>\n",
       "      <th>CHAS</th>\n",
       "      <th>NOX</th>\n",
       "      <th>RM</th>\n",
       "      <th>AGE</th>\n",
       "      <th>DIS</th>\n",
       "      <th>RAD</th>\n",
       "      <th>TAX</th>\n",
       "      <th>PTRATIO</th>\n",
       "      <th>B</th>\n",
       "      <th>LSTAT</th>\n",
       "      <th>target</th>\n",
       "    </tr>\n",
       "  </thead>\n",
       "  <tbody>\n",
       "    <tr>\n",
       "      <th>0</th>\n",
       "      <td>0.00632</td>\n",
       "      <td>18.0</td>\n",
       "      <td>2.31</td>\n",
       "      <td>0.0</td>\n",
       "      <td>0.538</td>\n",
       "      <td>6.575</td>\n",
       "      <td>65.2</td>\n",
       "      <td>4.0900</td>\n",
       "      <td>1.0</td>\n",
       "      <td>296.0</td>\n",
       "      <td>15.3</td>\n",
       "      <td>396.90</td>\n",
       "      <td>4.98</td>\n",
       "      <td>24.0</td>\n",
       "    </tr>\n",
       "    <tr>\n",
       "      <th>1</th>\n",
       "      <td>0.02731</td>\n",
       "      <td>0.0</td>\n",
       "      <td>7.07</td>\n",
       "      <td>0.0</td>\n",
       "      <td>0.469</td>\n",
       "      <td>6.421</td>\n",
       "      <td>78.9</td>\n",
       "      <td>4.9671</td>\n",
       "      <td>2.0</td>\n",
       "      <td>242.0</td>\n",
       "      <td>17.8</td>\n",
       "      <td>396.90</td>\n",
       "      <td>9.14</td>\n",
       "      <td>21.6</td>\n",
       "    </tr>\n",
       "    <tr>\n",
       "      <th>2</th>\n",
       "      <td>0.02729</td>\n",
       "      <td>0.0</td>\n",
       "      <td>7.07</td>\n",
       "      <td>0.0</td>\n",
       "      <td>0.469</td>\n",
       "      <td>7.185</td>\n",
       "      <td>61.1</td>\n",
       "      <td>4.9671</td>\n",
       "      <td>2.0</td>\n",
       "      <td>242.0</td>\n",
       "      <td>17.8</td>\n",
       "      <td>392.83</td>\n",
       "      <td>4.03</td>\n",
       "      <td>34.7</td>\n",
       "    </tr>\n",
       "    <tr>\n",
       "      <th>3</th>\n",
       "      <td>0.03237</td>\n",
       "      <td>0.0</td>\n",
       "      <td>2.18</td>\n",
       "      <td>0.0</td>\n",
       "      <td>0.458</td>\n",
       "      <td>6.998</td>\n",
       "      <td>45.8</td>\n",
       "      <td>6.0622</td>\n",
       "      <td>3.0</td>\n",
       "      <td>222.0</td>\n",
       "      <td>18.7</td>\n",
       "      <td>394.63</td>\n",
       "      <td>2.94</td>\n",
       "      <td>33.4</td>\n",
       "    </tr>\n",
       "    <tr>\n",
       "      <th>4</th>\n",
       "      <td>0.06905</td>\n",
       "      <td>0.0</td>\n",
       "      <td>2.18</td>\n",
       "      <td>0.0</td>\n",
       "      <td>0.458</td>\n",
       "      <td>7.147</td>\n",
       "      <td>54.2</td>\n",
       "      <td>6.0622</td>\n",
       "      <td>3.0</td>\n",
       "      <td>222.0</td>\n",
       "      <td>18.7</td>\n",
       "      <td>396.90</td>\n",
       "      <td>5.33</td>\n",
       "      <td>36.2</td>\n",
       "    </tr>\n",
       "  </tbody>\n",
       "</table>\n",
       "</div>"
      ],
      "text/plain": [
       "      CRIM    ZN  INDUS  CHAS    NOX     RM   AGE     DIS  RAD    TAX  \\\n",
       "0  0.00632  18.0   2.31   0.0  0.538  6.575  65.2  4.0900  1.0  296.0   \n",
       "1  0.02731   0.0   7.07   0.0  0.469  6.421  78.9  4.9671  2.0  242.0   \n",
       "2  0.02729   0.0   7.07   0.0  0.469  7.185  61.1  4.9671  2.0  242.0   \n",
       "3  0.03237   0.0   2.18   0.0  0.458  6.998  45.8  6.0622  3.0  222.0   \n",
       "4  0.06905   0.0   2.18   0.0  0.458  7.147  54.2  6.0622  3.0  222.0   \n",
       "\n",
       "   PTRATIO       B  LSTAT  target  \n",
       "0     15.3  396.90   4.98    24.0  \n",
       "1     17.8  396.90   9.14    21.6  \n",
       "2     17.8  392.83   4.03    34.7  \n",
       "3     18.7  394.63   2.94    33.4  \n",
       "4     18.7  396.90   5.33    36.2  "
      ]
     },
     "execution_count": 2,
     "metadata": {},
     "output_type": "execute_result"
    }
   ],
   "source": [
    "boston_data = datasets.load_boston()\n",
    "df = pd.DataFrame(boston_data.data,columns=boston_data.feature_names)\n",
    "df['target'] = pd.Series(boston_data.target)\n",
    "df.head()"
   ]
  },
  {
   "cell_type": "code",
   "execution_count": 3,
   "metadata": {},
   "outputs": [],
   "source": [
    "X = df.drop(columns=['target'])\n",
    "Y = df['target'] "
   ]
  },
  {
   "cell_type": "markdown",
   "metadata": {},
   "source": [
    "### Baseline Random Forest"
   ]
  },
  {
   "cell_type": "code",
   "execution_count": 4,
   "metadata": {},
   "outputs": [],
   "source": [
    "rf_base = RandomForestRegressor(random_state=0, oob_score=True)"
   ]
  },
  {
   "cell_type": "markdown",
   "metadata": {},
   "source": [
    "#### K-fold cross-validation\n",
    "\n",
    "- the samples in different folds are continuous rather than taken randomly as in Startifed Sampling\n",
    "\n",
    "- from sklearn.metrics import make_scorer: you can make your own score\n",
    "\n",
    "- neg_root_mean_squared_error (https://github.com/scikit-learn/scikit-learn/issues/2439)\n",
    "\n",
    "- greater_is_better : boolean, default=True\n",
    "- Whether score_func is a score function (default), meaning high is good, or a loss function, meaning low is good. In the latter case, the scorer object will sign-flip the outcome of the score_func.\n"
   ]
  },
  {
   "cell_type": "code",
   "execution_count": 5,
   "metadata": {},
   "outputs": [
    {
     "name": "stdout",
     "output_type": "stream",
     "text": [
      "{'fit_time': array([0.29525399, 0.29782987, 0.29695702]), 'score_time': array([0.01135206, 0.01129079, 0.01090837]), 'test_r2': array([0.81149539, 0.56619126, 0.3091955 ]), 'train_r2': array([0.98266133, 0.97999717, 0.98681152]), 'test_neg_root_mean_squared_error': array([-3.05731614, -5.65657214, -6.74150736]), 'train_neg_root_mean_squared_error': array([-1.3264661 , -1.1209407 , -0.98093352])}\n",
      "\n",
      "\n",
      "Mean RMSE test: -5.1517985488474665\n",
      "Std RMSE test: 1.5458360232814086\n",
      "\n",
      "\n",
      "Mean R^2 test: 0.5622940492988148\n",
      "Std R^2 test: 0.20508158715824418\n"
     ]
    }
   ],
   "source": [
    "scores = cross_validate(rf_base, X, Y, cv=3, scoring=('r2', 'neg_root_mean_squared_error'), return_train_score=True)\n",
    "print(scores)\n",
    "print('\\n')\n",
    "print(f\"Mean RMSE test: {np.mean(scores['test_neg_root_mean_squared_error'])}\")\n",
    "print(f\"Std RMSE test: {np.std(scores['test_neg_root_mean_squared_error'])}\")\n",
    "print('\\n')\n",
    "print(f\"Mean R^2 test: {np.mean(scores['test_r2'])}\")\n",
    "print(f\"Std R^2 test: {np.std(scores['test_r2'])}\")"
   ]
  },
  {
   "cell_type": "markdown",
   "metadata": {},
   "source": [
    "#### Startified cross-validation \n",
    "\n",
    "- Generate test sets such that all contain the same distribution of classes, or as close as possible.\n",
    "\n",
    "- Shuffle split: Shuffle the data before diving into test/train sets\n",
    "\n",
    "- **Looks like cross_validate takes Statified by default when we are classifying and K-Fold otherwise**\n",
    "\n",
    "- **Pros and Cons of each cv splitting strategy**"
   ]
  },
  {
   "cell_type": "markdown",
   "metadata": {},
   "source": [
    "### Hyperparameter Optimization "
   ]
  },
  {
   "cell_type": "code",
   "execution_count": 6,
   "metadata": {},
   "outputs": [],
   "source": [
    "param_grid_instance = {\"max_depth\": [1, 3, 5, None],\n",
    "              \"max_features\": ['auto', 0.5, 0.8],\n",
    "              \"min_samples_leaf\": [1, 2, 5, 11],\n",
    "              \"n_estimators\": [100, 300, 500],\n",
    "              \"max_samples\": [None, 0.8, 0.5],\n",
    "              \"max_leaf_nodes\": [None, 10, 20]}\n",
    "#\"bootstrap\": [True, False],\n",
    "#ValueError: Out of bag estimation only available if bootstrap=True"
   ]
  },
  {
   "cell_type": "markdown",
   "metadata": {},
   "source": [
    "#### Grid Search CV\n",
    "- estimator\n",
    "- splitting startegy: Kfold, Statified, Shuffle, Startified-Shuffle\n",
    "- scorer\n",
    "- parameter grid \n",
    "\n",
    "\n",
    "- make_scorer can be used here"
   ]
  },
  {
   "cell_type": "code",
   "execution_count": null,
   "metadata": {},
   "outputs": [],
   "source": [
    "hyper_opt_rf = GridSearchCV(rf_base, param_grid=param_grid_instance, cv=5)\n",
    "hyper_opt_rf.fit(X, Y)"
   ]
  },
  {
   "cell_type": "code",
   "execution_count": null,
   "metadata": {},
   "outputs": [],
   "source": [
    "# result of all param combinations\n",
    "hyper_opt_rf.cv_results_"
   ]
  },
  {
   "cell_type": "code",
   "execution_count": null,
   "metadata": {},
   "outputs": [],
   "source": [
    "hyper_opt_rf.best_params_"
   ]
  },
  {
   "cell_type": "code",
   "execution_count": null,
   "metadata": {},
   "outputs": [],
   "source": [
    "#By default, parameter search uses the score function of the estimator to evaluate a parameter setting. \n",
    "#These are the sklearn.metrics.accuracy_score for classification and sklearn.metrics.r2_score for regression. \n",
    "hyper_opt_rf.scorer_"
   ]
  },
  {
   "cell_type": "code",
   "execution_count": null,
   "metadata": {},
   "outputs": [],
   "source": [
    "hyper_opt_rf.best_score_"
   ]
  },
  {
   "cell_type": "code",
   "execution_count": null,
   "metadata": {},
   "outputs": [],
   "source": [
    " ### Use the best params to refit data\n",
    "print(hyper_opt_rf.best_estimator_)"
   ]
  },
  {
   "cell_type": "code",
   "execution_count": null,
   "metadata": {},
   "outputs": [],
   "source": [
    "scores = cross_validate(hyper_opt_rf.best_estimator_, X, Y, cv=5, scoring=('r2', 'neg_root_mean_squared_error'), return_train_score=True)\n",
    "print(f\"Mean RMSE test: {np.mean(scores['test_neg_root_mean_squared_error'])}\")\n",
    "print(f\"Std RMSE test: {np.std(scores['test_neg_root_mean_squared_error'])}\")\n",
    "print('\\n')\n",
    "print(f\"Mean R^2 test: {np.mean(scores['test_r2'])}\")\n",
    "print(f\"Std R^2 test: {np.std(scores['test_r2'])}\")"
   ]
  },
  {
   "cell_type": "markdown",
   "metadata": {},
   "source": [
    "### Multiple scorers/custom scorers in Grid Search CV\n",
    "\n",
    "- You have to specify refit parameter in grid search on which refit will be done\n",
    "\n",
    "- Error otherwie= ValueError: For multi-metric scoring, the parameter refit must be set to a scorer key or a callable to refit an estimator with the best parameter setting on the whole data and make the best_* attributes available for that metric. If this is not needed, refit should be set to False explicitly. True was passed."
   ]
  },
  {
   "cell_type": "code",
   "execution_count": null,
   "metadata": {},
   "outputs": [],
   "source": [
    "# param_grid_instance = {\"max_depth\": [1, 3, 5, None],\n",
    "#               \"max_features\": ['auto', 0.5, 0.8],\n",
    "#               \"min_samples_leaf\": [1, 2, 5, 11],\n",
    "#               \"n_estimators\": [100, 300, 500],\n",
    "#               \"max_samples\": [None, 0.8, 0.5],\n",
    "#               \"max_leaf_nodes\": [None, 10, 20]}\n",
    "scoring = {'r-squared': 'r2', 'exp_variance': 'explained_variance'}\n",
    "param_grid={'criterion': 'mse',\n",
    " 'max_depth': 4,\n",
    " 'max_features': None,\n",
    " 'max_leaf_nodes': None,\n",
    " 'min_samples_leaf': 1,\n",
    " 'min_samples_split': 2,\n",
    " 'min_weight_fraction_leaf': 0.0,\n",
    " 'presort': False,\n",
    " 'random_state': None,\n",
    " 'splitter': 'best'}\n",
    "gs = GridSearchCV(rf_base, param_grid=param_grid_instance, cv=5, scoring=scoring, refit='r-squared', return_train_score=False)\n",
    "gs.fit(X, Y)\n",
    "results = gs.cv_results_"
   ]
  },
  {
   "cell_type": "code",
   "execution_count": null,
   "metadata": {},
   "outputs": [],
   "source": [
    "results"
   ]
  },
  {
   "cell_type": "code",
   "execution_count": null,
   "metadata": {},
   "outputs": [],
   "source": [
    "gs.best_score_"
   ]
  },
  {
   "cell_type": "code",
   "execution_count": null,
   "metadata": {},
   "outputs": [],
   "source": [
    "gs.scorer_"
   ]
  },
  {
   "cell_type": "code",
   "execution_count": null,
   "metadata": {},
   "outputs": [],
   "source": [
    "gs.best_estimator_"
   ]
  },
  {
   "cell_type": "code",
   "execution_count": null,
   "metadata": {},
   "outputs": [],
   "source": [
    "gs.best_index_"
   ]
  },
  {
   "cell_type": "code",
   "execution_count": null,
   "metadata": {},
   "outputs": [],
   "source": [
    "gs.cv_results_"
   ]
  },
  {
   "cell_type": "markdown",
   "metadata": {},
   "source": [
    "### Visualizing Training on various metrics:\n",
    "\n",
    "[1] https://scikit-learn.org/stable/modules/learning_curve.html\n",
    "\n",
    "[2] https://scikit-learn.org/stable/auto_examples/model_selection/plot_learning_curve.html#sphx-glr-auto-examples-model-selection-plot-learning-curve-py"
   ]
  },
  {
   "cell_type": "markdown",
   "metadata": {},
   "source": [
    "### See also\n",
    "-  ParameterGrid: generates all the combinations of a hyperparameter grid.\n",
    "\n",
    "- sklearn.model_selection.train_test_split: utility function to split the data into a development set usable for fitting a GridSearchCV instance and an evaluation set for its final evaluation.\n",
    "\n",
    "- sklearn.metrics.make_scorer: Make a scorer from a performance metric or loss function.\n",
    "\n",
    "[1] https://scikit-learn.org/stable/modules/model_evaluation.html#multimetric-scoring\n",
    "\n",
    "https://scikit-learn.org/stable/modules/generated/sklearn.model_selection.StratifiedShuffleSplit.html"
   ]
  },
  {
   "cell_type": "code",
   "execution_count": null,
   "metadata": {},
   "outputs": [],
   "source": [
    "### Dummy estimator\n",
    "# [1] https://scikit-learn.org/stable/modules/model_evaluation.html#dummy-estimators\n"
   ]
  }
 ],
 "metadata": {
  "kernelspec": {
   "display_name": "Python 3",
   "language": "python",
   "name": "python3"
  },
  "language_info": {
   "codemirror_mode": {
    "name": "ipython",
    "version": 3
   },
   "file_extension": ".py",
   "mimetype": "text/x-python",
   "name": "python",
   "nbconvert_exporter": "python",
   "pygments_lexer": "ipython3",
   "version": "3.7.6"
  }
 },
 "nbformat": 4,
 "nbformat_minor": 4
}
